{
 "cells": [
  {
   "cell_type": "code",
   "execution_count": 28,
   "metadata": {},
   "outputs": [],
   "source": [
    "import pandas as pd\n",
    "import numpy as np\n",
    "import matplotlib.pyplot as plt"
   ]
  },
  {
   "cell_type": "code",
   "execution_count": 29,
   "metadata": {},
   "outputs": [
    {
     "data": {
      "text/html": [
       "<div>\n",
       "<style scoped>\n",
       "    .dataframe tbody tr th:only-of-type {\n",
       "        vertical-align: middle;\n",
       "    }\n",
       "\n",
       "    .dataframe tbody tr th {\n",
       "        vertical-align: top;\n",
       "    }\n",
       "\n",
       "    .dataframe thead th {\n",
       "        text-align: right;\n",
       "    }\n",
       "</style>\n",
       "<table border=\"1\" class=\"dataframe\">\n",
       "  <thead>\n",
       "    <tr style=\"text-align: right;\">\n",
       "      <th></th>\n",
       "      <th>Criado em</th>\n",
       "      <th>Faixa de Idade</th>\n",
       "      <th>Porte</th>\n",
       "      <th>Fidelizado?</th>\n",
       "      <th>Fidelizável?</th>\n",
       "      <th>Setor que Trabalha</th>\n",
       "      <th>Como conheceu a Fluxo?</th>\n",
       "      <th>Melhor forma de contato</th>\n",
       "      <th>Horário preferível para contato</th>\n",
       "      <th>País</th>\n",
       "      <th>UF</th>\n",
       "      <th>Cidade</th>\n",
       "      <th>Bairro</th>\n",
       "      <th>Capital Social</th>\n",
       "      <th>Natureza Juridica</th>\n",
       "      <th>Cnae Fiscal</th>\n",
       "      <th>Cnaes Secundarios</th>\n",
       "    </tr>\n",
       "  </thead>\n",
       "  <tbody>\n",
       "    <tr>\n",
       "      <th>0</th>\n",
       "      <td>2024-05-14 11:52</td>\n",
       "      <td>31-40</td>\n",
       "      <td>NaN</td>\n",
       "      <td>Sim</td>\n",
       "      <td>SIm</td>\n",
       "      <td>NaN</td>\n",
       "      <td>Indicação de/ou Aluno UFRJ</td>\n",
       "      <td>Whatsapp</td>\n",
       "      <td>Tarde</td>\n",
       "      <td>NaN</td>\n",
       "      <td>NaN</td>\n",
       "      <td>NaN</td>\n",
       "      <td>NaN</td>\n",
       "      <td>NaN</td>\n",
       "      <td>NaN</td>\n",
       "      <td>NaN</td>\n",
       "      <td>NaN</td>\n",
       "    </tr>\n",
       "    <tr>\n",
       "      <th>1</th>\n",
       "      <td>2024-05-03 15:27</td>\n",
       "      <td>18-30</td>\n",
       "      <td>NaN</td>\n",
       "      <td>Não</td>\n",
       "      <td>SIm</td>\n",
       "      <td>NaN</td>\n",
       "      <td>Indicação de/ou Aluno UFRJ</td>\n",
       "      <td>NaN</td>\n",
       "      <td>NaN</td>\n",
       "      <td>NaN</td>\n",
       "      <td>NaN</td>\n",
       "      <td>NaN</td>\n",
       "      <td>NaN</td>\n",
       "      <td>NaN</td>\n",
       "      <td>NaN</td>\n",
       "      <td>NaN</td>\n",
       "      <td>NaN</td>\n",
       "    </tr>\n",
       "    <tr>\n",
       "      <th>2</th>\n",
       "      <td>2024-05-02 13:14</td>\n",
       "      <td>41-50</td>\n",
       "      <td>NaN</td>\n",
       "      <td>Não</td>\n",
       "      <td>SIm</td>\n",
       "      <td>Educação</td>\n",
       "      <td>Indicação de EJ</td>\n",
       "      <td>NaN</td>\n",
       "      <td>NaN</td>\n",
       "      <td>NaN</td>\n",
       "      <td>RJ</td>\n",
       "      <td>SEROPEDICA</td>\n",
       "      <td>CAMPUS DA UFRRJ</td>\n",
       "      <td>0.0</td>\n",
       "      <td>Fundação Privada</td>\n",
       "      <td>7210000.0</td>\n",
       "      <td>[0]</td>\n",
       "    </tr>\n",
       "    <tr>\n",
       "      <th>3</th>\n",
       "      <td>2024-04-16 22:21</td>\n",
       "      <td>41-50</td>\n",
       "      <td>NaN</td>\n",
       "      <td>Não</td>\n",
       "      <td>SIm</td>\n",
       "      <td>NaN</td>\n",
       "      <td>Site da Fluxo</td>\n",
       "      <td>Whatsapp</td>\n",
       "      <td>NaN</td>\n",
       "      <td>Brasil</td>\n",
       "      <td>RJ</td>\n",
       "      <td>Rio de Janeiro</td>\n",
       "      <td>NaN</td>\n",
       "      <td>NaN</td>\n",
       "      <td>NaN</td>\n",
       "      <td>NaN</td>\n",
       "      <td>NaN</td>\n",
       "    </tr>\n",
       "    <tr>\n",
       "      <th>4</th>\n",
       "      <td>2024-04-16 22:17</td>\n",
       "      <td>41-50</td>\n",
       "      <td>Pequena Empresa</td>\n",
       "      <td>Não</td>\n",
       "      <td>SIm</td>\n",
       "      <td>NaN</td>\n",
       "      <td>Site da Fluxo</td>\n",
       "      <td>Whatsapp</td>\n",
       "      <td>NaN</td>\n",
       "      <td>Brasil</td>\n",
       "      <td>NaN</td>\n",
       "      <td>Rio de Janeiro</td>\n",
       "      <td>NaN</td>\n",
       "      <td>NaN</td>\n",
       "      <td>NaN</td>\n",
       "      <td>NaN</td>\n",
       "      <td>NaN</td>\n",
       "    </tr>\n",
       "  </tbody>\n",
       "</table>\n",
       "</div>"
      ],
      "text/plain": [
       "          Criado em Faixa de Idade            Porte Fidelizado? Fidelizável?  \\\n",
       "0  2024-05-14 11:52          31-40              NaN         Sim          SIm   \n",
       "1  2024-05-03 15:27          18-30              NaN         Não          SIm   \n",
       "2  2024-05-02 13:14          41-50              NaN         Não          SIm   \n",
       "3  2024-04-16 22:21          41-50              NaN         Não          SIm   \n",
       "4  2024-04-16 22:17          41-50  Pequena Empresa         Não          SIm   \n",
       "\n",
       "  Setor que Trabalha      Como conheceu a Fluxo? Melhor forma de contato  \\\n",
       "0                NaN  Indicação de/ou Aluno UFRJ                Whatsapp   \n",
       "1                NaN  Indicação de/ou Aluno UFRJ                     NaN   \n",
       "2           Educação             Indicação de EJ                     NaN   \n",
       "3                NaN               Site da Fluxo                Whatsapp   \n",
       "4                NaN               Site da Fluxo                Whatsapp   \n",
       "\n",
       "  Horário preferível para contato    País   UF          Cidade  \\\n",
       "0                           Tarde     NaN  NaN             NaN   \n",
       "1                             NaN     NaN  NaN             NaN   \n",
       "2                             NaN     NaN   RJ      SEROPEDICA   \n",
       "3                             NaN  Brasil   RJ  Rio de Janeiro   \n",
       "4                             NaN  Brasil  NaN  Rio de Janeiro   \n",
       "\n",
       "            Bairro  Capital Social Natureza Juridica  Cnae Fiscal  \\\n",
       "0              NaN             NaN               NaN          NaN   \n",
       "1              NaN             NaN               NaN          NaN   \n",
       "2  CAMPUS DA UFRRJ             0.0  Fundação Privada    7210000.0   \n",
       "3              NaN             NaN               NaN          NaN   \n",
       "4              NaN             NaN               NaN          NaN   \n",
       "\n",
       "  Cnaes Secundarios  \n",
       "0               NaN  \n",
       "1               NaN  \n",
       "2               [0]  \n",
       "3               NaN  \n",
       "4               NaN  "
      ]
     },
     "execution_count": 29,
     "metadata": {},
     "output_type": "execute_result"
    }
   ],
   "source": [
    "df = pd.read_csv('Clientes_Fluxo.csv')\n",
    "df.head()"
   ]
  },
  {
   "cell_type": "code",
   "execution_count": 30,
   "metadata": {},
   "outputs": [
    {
     "name": "stdout",
     "output_type": "stream",
     "text": [
      "<class 'pandas.core.frame.DataFrame'>\n",
      "RangeIndex: 1952 entries, 0 to 1951\n",
      "Data columns (total 17 columns):\n",
      " #   Column                           Non-Null Count  Dtype  \n",
      "---  ------                           --------------  -----  \n",
      " 0   Criado em                        1952 non-null   object \n",
      " 1   Faixa de Idade                   965 non-null    object \n",
      " 2   Porte                            320 non-null    object \n",
      " 3   Fidelizado?                      1363 non-null   object \n",
      " 4   Fidelizável?                     1356 non-null   object \n",
      " 5   Setor que Trabalha               292 non-null    object \n",
      " 6   Como conheceu a Fluxo?           1681 non-null   object \n",
      " 7   Melhor forma de contato          624 non-null    object \n",
      " 8   Horário preferível para contato  524 non-null    object \n",
      " 9   País                             694 non-null    object \n",
      " 10  UF                               767 non-null    object \n",
      " 11  Cidade                           439 non-null    object \n",
      " 12  Bairro                           416 non-null    object \n",
      " 13  Capital Social                   198 non-null    float64\n",
      " 14  Natureza Juridica                198 non-null    object \n",
      " 15  Cnae Fiscal                      198 non-null    float64\n",
      " 16  Cnaes Secundarios                198 non-null    object \n",
      "dtypes: float64(2), object(15)\n",
      "memory usage: 259.4+ KB\n"
     ]
    }
   ],
   "source": [
    "df.info()"
   ]
  },
  {
   "cell_type": "code",
   "execution_count": 31,
   "metadata": {},
   "outputs": [],
   "source": [
    "df['CNPJ'] = '55.448.418/0001-58'"
   ]
  },
  {
   "cell_type": "code",
   "execution_count": 32,
   "metadata": {},
   "outputs": [
    {
     "data": {
      "text/html": [
       "<div>\n",
       "<style scoped>\n",
       "    .dataframe tbody tr th:only-of-type {\n",
       "        vertical-align: middle;\n",
       "    }\n",
       "\n",
       "    .dataframe tbody tr th {\n",
       "        vertical-align: top;\n",
       "    }\n",
       "\n",
       "    .dataframe thead th {\n",
       "        text-align: right;\n",
       "    }\n",
       "</style>\n",
       "<table border=\"1\" class=\"dataframe\">\n",
       "  <thead>\n",
       "    <tr style=\"text-align: right;\">\n",
       "      <th></th>\n",
       "      <th>Criado em</th>\n",
       "      <th>Faixa de Idade</th>\n",
       "      <th>Porte</th>\n",
       "      <th>Fidelizado?</th>\n",
       "      <th>Fidelizável?</th>\n",
       "      <th>Setor que Trabalha</th>\n",
       "      <th>Como conheceu a Fluxo?</th>\n",
       "      <th>Melhor forma de contato</th>\n",
       "      <th>Horário preferível para contato</th>\n",
       "      <th>País</th>\n",
       "      <th>UF</th>\n",
       "      <th>Cidade</th>\n",
       "      <th>Bairro</th>\n",
       "      <th>Capital Social</th>\n",
       "      <th>Natureza Juridica</th>\n",
       "      <th>Cnae Fiscal</th>\n",
       "      <th>Cnaes Secundarios</th>\n",
       "      <th>CNPJ</th>\n",
       "    </tr>\n",
       "  </thead>\n",
       "  <tbody>\n",
       "    <tr>\n",
       "      <th>0</th>\n",
       "      <td>2024-05-14 11:52</td>\n",
       "      <td>31-40</td>\n",
       "      <td>NaN</td>\n",
       "      <td>Sim</td>\n",
       "      <td>SIm</td>\n",
       "      <td>NaN</td>\n",
       "      <td>Indicação de/ou Aluno UFRJ</td>\n",
       "      <td>Whatsapp</td>\n",
       "      <td>Tarde</td>\n",
       "      <td>NaN</td>\n",
       "      <td>NaN</td>\n",
       "      <td>NaN</td>\n",
       "      <td>NaN</td>\n",
       "      <td>NaN</td>\n",
       "      <td>NaN</td>\n",
       "      <td>NaN</td>\n",
       "      <td>NaN</td>\n",
       "      <td>55.448.418/0001-58</td>\n",
       "    </tr>\n",
       "  </tbody>\n",
       "</table>\n",
       "</div>"
      ],
      "text/plain": [
       "          Criado em Faixa de Idade Porte Fidelizado? Fidelizável?  \\\n",
       "0  2024-05-14 11:52          31-40   NaN         Sim          SIm   \n",
       "\n",
       "  Setor que Trabalha      Como conheceu a Fluxo? Melhor forma de contato  \\\n",
       "0                NaN  Indicação de/ou Aluno UFRJ                Whatsapp   \n",
       "\n",
       "  Horário preferível para contato País   UF Cidade Bairro  Capital Social  \\\n",
       "0                           Tarde  NaN  NaN    NaN    NaN             NaN   \n",
       "\n",
       "  Natureza Juridica  Cnae Fiscal Cnaes Secundarios                CNPJ  \n",
       "0               NaN          NaN               NaN  55.448.418/0001-58  "
      ]
     },
     "execution_count": 32,
     "metadata": {},
     "output_type": "execute_result"
    }
   ],
   "source": [
    "df.head(1)"
   ]
  },
  {
   "cell_type": "markdown",
   "metadata": {},
   "source": [
    "- Porte; UF; Cidade; Bairro; Capital Social; Natureza Juridica; Cnae Fiscal; Cnaes Secundarios\n",
    "\n",
    "- Setor que Trabalha"
   ]
  },
  {
   "cell_type": "code",
   "execution_count": 33,
   "metadata": {},
   "outputs": [],
   "source": [
    "def consultar_cnpj(cnpj):\n",
    "    url = f\"https://www.receitaws.com.br/v1/cnpj/{cnpj}\"\n",
    "    response = requests.get(url)\n",
    "    \n",
    "    if response.status_code == 200:\n",
    "        dados = response.json()\n",
    "        if dados.get('status') == 'OK':\n",
    "            return dados\n",
    "        else:\n",
    "            return f\"Erro: {dados.get('message')}\"\n",
    "    else:\n",
    "        return f\"Erro na requisição: {response.status_code}\""
   ]
  },
  {
   "cell_type": "code",
   "execution_count": 34,
   "metadata": {},
   "outputs": [],
   "source": [
    "import requests\n",
    "import time\n",
    "def consultar_cnpj_alterado(cnpj):\n",
    "    cnpj = cnpj.replace('.', '').replace('/', '').replace('-', '')\n",
    "    url = f\"https://www.receitaws.com.br/v1/cnpj/{cnpj}\"\n",
    "    response = requests.get(url)\n",
    "    print(\"Soliciando dados...\")\n",
    "    if response.status_code == 200:\n",
    "        print(\"Dados recebidos com sucesso!\")\n",
    "        dados = response.json()\n",
    "        return {\n",
    "            'porte': dados['porte'],\n",
    "            'uf': dados['uf'],\n",
    "            'cidade': dados['municipio'],\n",
    "            'capital_social': dados['capital_social'],\n",
    "            'natureza_juridica': dados['natureza_juridica'],\n",
    "            'atividade_principal': dados['atividade_principal'][0]['text'],\n",
    "            'atividade_secundaria': dados['atividades_secundarias'],\n",
    "            \n",
    "        }\n",
    "    \n",
    "    elif response.status_code == 429:\n",
    "        wait_time = 30\n",
    "        print(f\"Muitas requisições. Aguardando {wait_time} segundos...\")\n",
    "        time.sleep(wait_time)\n",
    "        return consultar_cnpj_alterado(cnpj)\n",
    "    else:\n",
    "        print(f\"Erro na requisição: {response.status_code}\")\n",
    "        return f\"Erro na requisição: {response.status_code}\"\n",
    "        # return f\"Erro: {dados.get('message')}\n",
    "    \n"
   ]
  },
  {
   "cell_type": "code",
   "execution_count": null,
   "metadata": {},
   "outputs": [],
   "source": [
    "retorno = consultar_cnpj(\"55.448.418/0001-58\")"
   ]
  },
  {
   "cell_type": "code",
   "execution_count": null,
   "metadata": {},
   "outputs": [
    {
     "data": {
      "text/plain": [
       "{'abertura': '08/06/2024',\n",
       " 'situacao': 'ATIVA',\n",
       " 'tipo': 'MATRIZ',\n",
       " 'nome': '55.448.418 VANESSA ULCEN TABORDA',\n",
       " 'porte': 'MICRO EMPRESA',\n",
       " 'natureza_juridica': '213-5 - Empresário (Individual)',\n",
       " 'atividade_principal': [{'code': '56.11-2-03',\n",
       "   'text': 'Lanchonetes, casas de chá, de sucos e similares'}],\n",
       " 'logradouro': 'RUA EDUARDO PINTO DA ROCHA',\n",
       " 'numero': '2930',\n",
       " 'complemento': 'APT 43;ANDAR 4;ANDAR 4;APT 43',\n",
       " 'municipio': 'CURITIBA',\n",
       " 'bairro': 'SITIO CERCADO',\n",
       " 'uf': 'PR',\n",
       " 'cep': '81.935-000',\n",
       " 'email': 'vanessaulcen@gmail.com',\n",
       " 'telefone': '(41) 9975-9909',\n",
       " 'data_situacao': '08/06/2024',\n",
       " 'cnpj': '55.448.418/0001-58',\n",
       " 'ultima_atualizacao': '2024-06-08T23:59:59.000Z',\n",
       " 'status': 'OK',\n",
       " 'fantasia': '',\n",
       " 'efr': '',\n",
       " 'motivo_situacao': '',\n",
       " 'situacao_especial': '',\n",
       " 'data_situacao_especial': '',\n",
       " 'atividades_secundarias': [{'code': '00.00-0-00', 'text': 'Não informada'}],\n",
       " 'capital_social': '100.00',\n",
       " 'qsa': [],\n",
       " 'extra': {},\n",
       " 'billing': {'free': True, 'database': True}}"
      ]
     },
     "execution_count": 12,
     "metadata": {},
     "output_type": "execute_result"
    }
   ],
   "source": [
    "print(type(retorno))\n",
    "retorno"
   ]
  },
  {
   "cell_type": "code",
   "execution_count": null,
   "metadata": {},
   "outputs": [
    {
     "data": {
      "text/plain": [
       "{'porte': 'MICRO EMPRESA',\n",
       " 'uf': 'PR',\n",
       " 'cidade': 'CURITIBA',\n",
       " 'capital_social': '100.00',\n",
       " 'natureza_juridica': '213-5 - Empresário (Individual)',\n",
       " 'atividade_principal': 'Lanchonetes, casas de chá, de sucos e similares',\n",
       " 'atividade_secundaria': [{'code': '00.00-0-00', 'text': 'Não informada'}]}"
      ]
     },
     "execution_count": 15,
     "metadata": {},
     "output_type": "execute_result"
    }
   ],
   "source": [
    "consultar_cnpj_alterado(\"55.448.418/0001-58\")"
   ]
  },
  {
   "cell_type": "code",
   "execution_count": 35,
   "metadata": {},
   "outputs": [
    {
     "data": {
      "text/plain": [
       "(1952, 18)"
      ]
     },
     "execution_count": 35,
     "metadata": {},
     "output_type": "execute_result"
    }
   ],
   "source": [
    "df.shape"
   ]
  },
  {
   "cell_type": "code",
   "execution_count": 36,
   "metadata": {},
   "outputs": [
    {
     "name": "stdout",
     "output_type": "stream",
     "text": [
      "Soliciando dados...\n",
      "Dados recebidos com sucesso!\n",
      "Soliciando dados...\n",
      "Dados recebidos com sucesso!\n",
      "Soliciando dados...\n",
      "Dados recebidos com sucesso!\n",
      "Soliciando dados...\n",
      "Muitas requisições. Aguardando 30 segundos...\n"
     ]
    },
    {
     "ename": "KeyboardInterrupt",
     "evalue": "",
     "output_type": "error",
     "traceback": [
      "\u001b[0;31m---------------------------------------------------------------------------\u001b[0m",
      "\u001b[0;31mKeyboardInterrupt\u001b[0m                         Traceback (most recent call last)",
      "Cell \u001b[0;32mIn[36], line 1\u001b[0m\n\u001b[0;32m----> 1\u001b[0m \u001b[43mdf\u001b[49m\u001b[43m[\u001b[49m\u001b[38;5;124;43m'\u001b[39;49m\u001b[38;5;124;43mCNPJ\u001b[39;49m\u001b[38;5;124;43m'\u001b[39;49m\u001b[43m]\u001b[49m\u001b[38;5;241;43m.\u001b[39;49m\u001b[43mapply\u001b[49m\u001b[43m(\u001b[49m\u001b[43mconsultar_cnpj_alterado\u001b[49m\u001b[43m)\u001b[49m\n",
      "File \u001b[0;32m~/git/CIS/env/lib/python3.10/site-packages/pandas/core/series.py:4924\u001b[0m, in \u001b[0;36mSeries.apply\u001b[0;34m(self, func, convert_dtype, args, by_row, **kwargs)\u001b[0m\n\u001b[1;32m   4789\u001b[0m \u001b[38;5;28;01mdef\u001b[39;00m \u001b[38;5;21mapply\u001b[39m(\n\u001b[1;32m   4790\u001b[0m     \u001b[38;5;28mself\u001b[39m,\n\u001b[1;32m   4791\u001b[0m     func: AggFuncType,\n\u001b[0;32m   (...)\u001b[0m\n\u001b[1;32m   4796\u001b[0m     \u001b[38;5;241m*\u001b[39m\u001b[38;5;241m*\u001b[39mkwargs,\n\u001b[1;32m   4797\u001b[0m ) \u001b[38;5;241m-\u001b[39m\u001b[38;5;241m>\u001b[39m DataFrame \u001b[38;5;241m|\u001b[39m Series:\n\u001b[1;32m   4798\u001b[0m \u001b[38;5;250m    \u001b[39m\u001b[38;5;124;03m\"\"\"\u001b[39;00m\n\u001b[1;32m   4799\u001b[0m \u001b[38;5;124;03m    Invoke function on values of Series.\u001b[39;00m\n\u001b[1;32m   4800\u001b[0m \n\u001b[0;32m   (...)\u001b[0m\n\u001b[1;32m   4915\u001b[0m \u001b[38;5;124;03m    dtype: float64\u001b[39;00m\n\u001b[1;32m   4916\u001b[0m \u001b[38;5;124;03m    \"\"\"\u001b[39;00m\n\u001b[1;32m   4917\u001b[0m     \u001b[38;5;28;01mreturn\u001b[39;00m \u001b[43mSeriesApply\u001b[49m\u001b[43m(\u001b[49m\n\u001b[1;32m   4918\u001b[0m \u001b[43m        \u001b[49m\u001b[38;5;28;43mself\u001b[39;49m\u001b[43m,\u001b[49m\n\u001b[1;32m   4919\u001b[0m \u001b[43m        \u001b[49m\u001b[43mfunc\u001b[49m\u001b[43m,\u001b[49m\n\u001b[1;32m   4920\u001b[0m \u001b[43m        \u001b[49m\u001b[43mconvert_dtype\u001b[49m\u001b[38;5;241;43m=\u001b[39;49m\u001b[43mconvert_dtype\u001b[49m\u001b[43m,\u001b[49m\n\u001b[1;32m   4921\u001b[0m \u001b[43m        \u001b[49m\u001b[43mby_row\u001b[49m\u001b[38;5;241;43m=\u001b[39;49m\u001b[43mby_row\u001b[49m\u001b[43m,\u001b[49m\n\u001b[1;32m   4922\u001b[0m \u001b[43m        \u001b[49m\u001b[43margs\u001b[49m\u001b[38;5;241;43m=\u001b[39;49m\u001b[43margs\u001b[49m\u001b[43m,\u001b[49m\n\u001b[1;32m   4923\u001b[0m \u001b[43m        \u001b[49m\u001b[43mkwargs\u001b[49m\u001b[38;5;241;43m=\u001b[39;49m\u001b[43mkwargs\u001b[49m\u001b[43m,\u001b[49m\n\u001b[0;32m-> 4924\u001b[0m \u001b[43m    \u001b[49m\u001b[43m)\u001b[49m\u001b[38;5;241;43m.\u001b[39;49m\u001b[43mapply\u001b[49m\u001b[43m(\u001b[49m\u001b[43m)\u001b[49m\n",
      "File \u001b[0;32m~/git/CIS/env/lib/python3.10/site-packages/pandas/core/apply.py:1427\u001b[0m, in \u001b[0;36mSeriesApply.apply\u001b[0;34m(self)\u001b[0m\n\u001b[1;32m   1424\u001b[0m     \u001b[38;5;28;01mreturn\u001b[39;00m \u001b[38;5;28mself\u001b[39m\u001b[38;5;241m.\u001b[39mapply_compat()\n\u001b[1;32m   1426\u001b[0m \u001b[38;5;66;03m# self.func is Callable\u001b[39;00m\n\u001b[0;32m-> 1427\u001b[0m \u001b[38;5;28;01mreturn\u001b[39;00m \u001b[38;5;28;43mself\u001b[39;49m\u001b[38;5;241;43m.\u001b[39;49m\u001b[43mapply_standard\u001b[49m\u001b[43m(\u001b[49m\u001b[43m)\u001b[49m\n",
      "File \u001b[0;32m~/git/CIS/env/lib/python3.10/site-packages/pandas/core/apply.py:1507\u001b[0m, in \u001b[0;36mSeriesApply.apply_standard\u001b[0;34m(self)\u001b[0m\n\u001b[1;32m   1501\u001b[0m \u001b[38;5;66;03m# row-wise access\u001b[39;00m\n\u001b[1;32m   1502\u001b[0m \u001b[38;5;66;03m# apply doesn't have a `na_action` keyword and for backward compat reasons\u001b[39;00m\n\u001b[1;32m   1503\u001b[0m \u001b[38;5;66;03m# we need to give `na_action=\"ignore\"` for categorical data.\u001b[39;00m\n\u001b[1;32m   1504\u001b[0m \u001b[38;5;66;03m# TODO: remove the `na_action=\"ignore\"` when that default has been changed in\u001b[39;00m\n\u001b[1;32m   1505\u001b[0m \u001b[38;5;66;03m#  Categorical (GH51645).\u001b[39;00m\n\u001b[1;32m   1506\u001b[0m action \u001b[38;5;241m=\u001b[39m \u001b[38;5;124m\"\u001b[39m\u001b[38;5;124mignore\u001b[39m\u001b[38;5;124m\"\u001b[39m \u001b[38;5;28;01mif\u001b[39;00m \u001b[38;5;28misinstance\u001b[39m(obj\u001b[38;5;241m.\u001b[39mdtype, CategoricalDtype) \u001b[38;5;28;01melse\u001b[39;00m \u001b[38;5;28;01mNone\u001b[39;00m\n\u001b[0;32m-> 1507\u001b[0m mapped \u001b[38;5;241m=\u001b[39m \u001b[43mobj\u001b[49m\u001b[38;5;241;43m.\u001b[39;49m\u001b[43m_map_values\u001b[49m\u001b[43m(\u001b[49m\n\u001b[1;32m   1508\u001b[0m \u001b[43m    \u001b[49m\u001b[43mmapper\u001b[49m\u001b[38;5;241;43m=\u001b[39;49m\u001b[43mcurried\u001b[49m\u001b[43m,\u001b[49m\u001b[43m \u001b[49m\u001b[43mna_action\u001b[49m\u001b[38;5;241;43m=\u001b[39;49m\u001b[43maction\u001b[49m\u001b[43m,\u001b[49m\u001b[43m \u001b[49m\u001b[43mconvert\u001b[49m\u001b[38;5;241;43m=\u001b[39;49m\u001b[38;5;28;43mself\u001b[39;49m\u001b[38;5;241;43m.\u001b[39;49m\u001b[43mconvert_dtype\u001b[49m\n\u001b[1;32m   1509\u001b[0m \u001b[43m\u001b[49m\u001b[43m)\u001b[49m\n\u001b[1;32m   1511\u001b[0m \u001b[38;5;28;01mif\u001b[39;00m \u001b[38;5;28mlen\u001b[39m(mapped) \u001b[38;5;129;01mand\u001b[39;00m \u001b[38;5;28misinstance\u001b[39m(mapped[\u001b[38;5;241m0\u001b[39m], ABCSeries):\n\u001b[1;32m   1512\u001b[0m     \u001b[38;5;66;03m# GH#43986 Need to do list(mapped) in order to get treated as nested\u001b[39;00m\n\u001b[1;32m   1513\u001b[0m     \u001b[38;5;66;03m#  See also GH#25959 regarding EA support\u001b[39;00m\n\u001b[1;32m   1514\u001b[0m     \u001b[38;5;28;01mreturn\u001b[39;00m obj\u001b[38;5;241m.\u001b[39m_constructor_expanddim(\u001b[38;5;28mlist\u001b[39m(mapped), index\u001b[38;5;241m=\u001b[39mobj\u001b[38;5;241m.\u001b[39mindex)\n",
      "File \u001b[0;32m~/git/CIS/env/lib/python3.10/site-packages/pandas/core/base.py:921\u001b[0m, in \u001b[0;36mIndexOpsMixin._map_values\u001b[0;34m(self, mapper, na_action, convert)\u001b[0m\n\u001b[1;32m    918\u001b[0m \u001b[38;5;28;01mif\u001b[39;00m \u001b[38;5;28misinstance\u001b[39m(arr, ExtensionArray):\n\u001b[1;32m    919\u001b[0m     \u001b[38;5;28;01mreturn\u001b[39;00m arr\u001b[38;5;241m.\u001b[39mmap(mapper, na_action\u001b[38;5;241m=\u001b[39mna_action)\n\u001b[0;32m--> 921\u001b[0m \u001b[38;5;28;01mreturn\u001b[39;00m \u001b[43malgorithms\u001b[49m\u001b[38;5;241;43m.\u001b[39;49m\u001b[43mmap_array\u001b[49m\u001b[43m(\u001b[49m\u001b[43marr\u001b[49m\u001b[43m,\u001b[49m\u001b[43m \u001b[49m\u001b[43mmapper\u001b[49m\u001b[43m,\u001b[49m\u001b[43m \u001b[49m\u001b[43mna_action\u001b[49m\u001b[38;5;241;43m=\u001b[39;49m\u001b[43mna_action\u001b[49m\u001b[43m,\u001b[49m\u001b[43m \u001b[49m\u001b[43mconvert\u001b[49m\u001b[38;5;241;43m=\u001b[39;49m\u001b[43mconvert\u001b[49m\u001b[43m)\u001b[49m\n",
      "File \u001b[0;32m~/git/CIS/env/lib/python3.10/site-packages/pandas/core/algorithms.py:1743\u001b[0m, in \u001b[0;36mmap_array\u001b[0;34m(arr, mapper, na_action, convert)\u001b[0m\n\u001b[1;32m   1741\u001b[0m values \u001b[38;5;241m=\u001b[39m arr\u001b[38;5;241m.\u001b[39mastype(\u001b[38;5;28mobject\u001b[39m, copy\u001b[38;5;241m=\u001b[39m\u001b[38;5;28;01mFalse\u001b[39;00m)\n\u001b[1;32m   1742\u001b[0m \u001b[38;5;28;01mif\u001b[39;00m na_action \u001b[38;5;129;01mis\u001b[39;00m \u001b[38;5;28;01mNone\u001b[39;00m:\n\u001b[0;32m-> 1743\u001b[0m     \u001b[38;5;28;01mreturn\u001b[39;00m \u001b[43mlib\u001b[49m\u001b[38;5;241;43m.\u001b[39;49m\u001b[43mmap_infer\u001b[49m\u001b[43m(\u001b[49m\u001b[43mvalues\u001b[49m\u001b[43m,\u001b[49m\u001b[43m \u001b[49m\u001b[43mmapper\u001b[49m\u001b[43m,\u001b[49m\u001b[43m \u001b[49m\u001b[43mconvert\u001b[49m\u001b[38;5;241;43m=\u001b[39;49m\u001b[43mconvert\u001b[49m\u001b[43m)\u001b[49m\n\u001b[1;32m   1744\u001b[0m \u001b[38;5;28;01melse\u001b[39;00m:\n\u001b[1;32m   1745\u001b[0m     \u001b[38;5;28;01mreturn\u001b[39;00m lib\u001b[38;5;241m.\u001b[39mmap_infer_mask(\n\u001b[1;32m   1746\u001b[0m         values, mapper, mask\u001b[38;5;241m=\u001b[39misna(values)\u001b[38;5;241m.\u001b[39mview(np\u001b[38;5;241m.\u001b[39muint8), convert\u001b[38;5;241m=\u001b[39mconvert\n\u001b[1;32m   1747\u001b[0m     )\n",
      "File \u001b[0;32mlib.pyx:2972\u001b[0m, in \u001b[0;36mpandas._libs.lib.map_infer\u001b[0;34m()\u001b[0m\n",
      "Cell \u001b[0;32mIn[34], line 25\u001b[0m, in \u001b[0;36mconsultar_cnpj_alterado\u001b[0;34m(cnpj)\u001b[0m\n\u001b[1;32m     23\u001b[0m     wait_time \u001b[38;5;241m=\u001b[39m \u001b[38;5;241m30\u001b[39m\n\u001b[1;32m     24\u001b[0m     \u001b[38;5;28mprint\u001b[39m(\u001b[38;5;124mf\u001b[39m\u001b[38;5;124m\"\u001b[39m\u001b[38;5;124mMuitas requisições. Aguardando \u001b[39m\u001b[38;5;132;01m{\u001b[39;00mwait_time\u001b[38;5;132;01m}\u001b[39;00m\u001b[38;5;124m segundos...\u001b[39m\u001b[38;5;124m\"\u001b[39m)\n\u001b[0;32m---> 25\u001b[0m     \u001b[43mtime\u001b[49m\u001b[38;5;241;43m.\u001b[39;49m\u001b[43msleep\u001b[49m\u001b[43m(\u001b[49m\u001b[43mwait_time\u001b[49m\u001b[43m)\u001b[49m\n\u001b[1;32m     26\u001b[0m     \u001b[38;5;28;01mreturn\u001b[39;00m consultar_cnpj_alterado(cnpj)\n\u001b[1;32m     27\u001b[0m \u001b[38;5;28;01melse\u001b[39;00m:\n",
      "\u001b[0;31mKeyboardInterrupt\u001b[0m: "
     ]
    }
   ],
   "source": [
    "df['CNPJ'].apply(consultar_cnpj_alterado)"
   ]
  },
  {
   "cell_type": "code",
   "execution_count": null,
   "metadata": {},
   "outputs": [],
   "source": [
    "def consultar_cnpj_brasilapi(cnpj):\n",
    "    cnpj = cnpj.replace('.', '').replace('/', '').replace('-', '')\n",
    "    url = f\"https://brasilapi.com.br/api/cnpj/v1/{cnpj}\"\n",
    "    response = requests.get(url)\n",
    "    \n",
    "    if response.status_code == 200:\n",
    "        return response.json()\n",
    "    else:\n",
    "        return f\"Erro na requisição: {response.status_code}\""
   ]
  },
  {
   "cell_type": "code",
   "execution_count": null,
   "metadata": {},
   "outputs": [
    {
     "data": {
      "text/plain": [
       "'Erro na requisição: 404'"
      ]
     },
     "execution_count": 8,
     "metadata": {},
     "output_type": "execute_result"
    }
   ],
   "source": [
    "consultar_cnpj_brasilapi(\"55.448.418/0001-58\")"
   ]
  }
 ],
 "metadata": {
  "kernelspec": {
   "display_name": "env",
   "language": "python",
   "name": "python3"
  },
  "language_info": {
   "codemirror_mode": {
    "name": "ipython",
    "version": 3
   },
   "file_extension": ".py",
   "mimetype": "text/x-python",
   "name": "python",
   "nbconvert_exporter": "python",
   "pygments_lexer": "ipython3",
   "version": "3.10.12"
  }
 },
 "nbformat": 4,
 "nbformat_minor": 2
}
